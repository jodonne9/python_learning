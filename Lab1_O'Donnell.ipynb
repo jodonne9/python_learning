{
 "cells": [
  {
   "cell_type": "markdown",
   "metadata": {},
   "source": [
    "# OPER 544 Lab Assignment 1\n",
    "\n",
    "*Focus: Python built-in and custom functions*\n",
    "\n",
    "(*Adapted from [Engage-CSedu.org 'Functioning in Python'](https://www.engage-csedu.org/find-resources/functioning-python).*)\n",
    "\n",
    "*Assignment type*: Individual assignment, but group work is encouraged! For example, one student could be the driver and another the navigator when working through the problems. (If you group up, add the names of everyone who contributed.)\n",
    "\n",
    "For this assignment, you'll work with a few of Python's built-in functions before writing your own. You'll also practice writing documentation strings for your functions, which help explain to others (and your future self!) what the function does and how to use it.\n",
    "\n",
    "You'll work with functions in more depth after [Basics of Functions](https://www.pythonlikeyoumeanit.com/Module2_EssentialsOfPython/Functions.html) from Python Like You Mean It. For now, this will be a bit of a shakedown assignment for getting (back) into Python. This builds on [PLYMI Module 1](https://www.pythonlikeyoumeanit.com/Module1_GettingStartedWithPython/Informal_Intro_Python.html).\n",
    "\n",
    "\n",
    "> <font color=\"blue\">Step through this notebook cell by cell (tip: use Shift+Enter)</font>."
   ]
  },
  {
   "cell_type": "markdown",
   "metadata": {},
   "source": [
    "First, try out some of Python's many *built-in* functions."
   ]
  },
  {
   "cell_type": "code",
   "execution_count": 1,
   "metadata": {
    "scrolled": true
   },
   "outputs": [
    {
     "name": "stdout",
     "output_type": "stream",
     "text": [
      "[0, 1, 2, 3, 4, 5, 6, 7, 8, 9, 10, 11, 12, 13, 14, 15, 16, 17, 18, 19, 20, 21, 22, 23, 24, 25, 26, 27, 28, 29, 30, 31, 32, 33, 34, 35, 36, 37, 38, 39, 40, 41, 42, 43, 44, 45, 46, 47, 48, 49, 50, 51, 52, 53, 54, 55, 56, 57, 58, 59, 60, 61, 62, 63, 64, 65, 66, 67, 68, 69, 70, 71, 72, 73, 74, 75, 76, 77, 78, 79, 80, 81, 82, 83, 84, 85, 86, 87, 88, 89, 90, 91, 92, 93, 94, 95, 96, 97, 98, 99]\n"
     ]
    }
   ],
   "source": [
    "print(list(range(0, 100)))"
   ]
  },
  {
   "cell_type": "markdown",
   "metadata": {},
   "source": [
    "`range` returns an iterator of integers. `list` turns this iterator into a list of integers. Note that when you use `range()`, as with very many things in Python, the **right endpoint is omitted**!\n",
    "\n",
    "`print` displays the list in a more pleasing way, but is optional in Jupyter notebooks or Python consoles; `print`ing is neccessary if you want to print something that is part of a larger code block or if you write stand-alone `.py` files and want the user to see the output on the screen.\n",
    "\n",
    "> Edit the previous cell to remove the word `print` and re-run it to see the difference."
   ]
  },
  {
   "cell_type": "code",
   "execution_count": 2,
   "metadata": {},
   "outputs": [
    {
     "data": {
      "text/plain": [
       "52"
      ]
     },
     "execution_count": 2,
     "metadata": {},
     "output_type": "execute_result"
    }
   ],
   "source": [
    "sum(range(3, 11))"
   ]
  },
  {
   "cell_type": "markdown",
   "metadata": {},
   "source": [
    "`sum` sums a list of numbers, and `range` creates an iterator of integers. (`sum` is able to work with that iterator directly, so you don't need to call `list` first.)\n",
    "\n",
    "For a roundabout way of adding `40+2`, try"
   ]
  },
  {
   "cell_type": "code",
   "execution_count": 3,
   "metadata": {},
   "outputs": [
    {
     "data": {
      "text/plain": [
       "42"
      ]
     },
     "execution_count": 3,
     "metadata": {},
     "output_type": "execute_result"
    }
   ],
   "source": [
    "sum([40, 2])"
   ]
  },
  {
   "cell_type": "code",
   "execution_count": 4,
   "metadata": {},
   "outputs": [
    {
     "name": "stdout",
     "output_type": "stream",
     "text": [
      "Help on built-in function sum in module __builtin__:\n",
      "\n",
      "sum(...)\n",
      "    sum(iterable[, start]) -> value\n",
      "    \n",
      "    Return the sum of an iterable or sequence of numbers (NOT strings)\n",
      "    plus the value of 'start' (which defaults to 0).  When the sequence is\n",
      "    empty, return start.\n",
      "\n"
     ]
    }
   ],
   "source": [
    "help(sum)"
   ]
  },
  {
   "cell_type": "markdown",
   "metadata": {},
   "source": [
    "`help` is a good thing! If you use `help` from a Python console/terminal, you might need to hit `q` to leave the *help* interface.\n",
    "\n",
    "Another help feature available in iPython consoles and Jupyter notebooks is"
   ]
  },
  {
   "cell_type": "code",
   "execution_count": 5,
   "metadata": {},
   "outputs": [],
   "source": [
    "sum?"
   ]
  },
  {
   "cell_type": "markdown",
   "metadata": {},
   "source": [
    "This gives a similar explaination as `help`. In a Jupyter notebook, you get a small persistent frame that can be useful if you need to scroll a lot.\n",
    "\n",
    "Some functions, like `list`, `range`, `sum`, and many more, are available immediately. Others require you to `import` a library or module."
   ]
  },
  {
   "cell_type": "code",
   "execution_count": 6,
   "metadata": {},
   "outputs": [],
   "source": [
    "import math"
   ]
  },
  {
   "cell_type": "markdown",
   "metadata": {},
   "source": [
    "You do need to `import math` first before trying to use its functions, or else you'll get an error."
   ]
  },
  {
   "cell_type": "code",
   "execution_count": 7,
   "metadata": {
    "scrolled": true
   },
   "outputs": [
    {
     "data": {
      "text/plain": [
       "['__doc__',\n",
       " '__name__',\n",
       " '__package__',\n",
       " 'acos',\n",
       " 'acosh',\n",
       " 'asin',\n",
       " 'asinh',\n",
       " 'atan',\n",
       " 'atan2',\n",
       " 'atanh',\n",
       " 'ceil',\n",
       " 'copysign',\n",
       " 'cos',\n",
       " 'cosh',\n",
       " 'degrees',\n",
       " 'e',\n",
       " 'erf',\n",
       " 'erfc',\n",
       " 'exp',\n",
       " 'expm1',\n",
       " 'fabs',\n",
       " 'factorial',\n",
       " 'floor',\n",
       " 'fmod',\n",
       " 'frexp',\n",
       " 'fsum',\n",
       " 'gamma',\n",
       " 'hypot',\n",
       " 'isinf',\n",
       " 'isnan',\n",
       " 'ldexp',\n",
       " 'lgamma',\n",
       " 'log',\n",
       " 'log10',\n",
       " 'log1p',\n",
       " 'modf',\n",
       " 'pi',\n",
       " 'pow',\n",
       " 'radians',\n",
       " 'sin',\n",
       " 'sinh',\n",
       " 'sqrt',\n",
       " 'tan',\n",
       " 'tanh',\n",
       " 'trunc']"
      ]
     },
     "execution_count": 7,
     "metadata": {},
     "output_type": "execute_result"
    }
   ],
   "source": [
    "dir(math)"
   ]
  },
  {
   "cell_type": "markdown",
   "metadata": {},
   "source": [
    "`dir` lists all the functions available for you in the `math` library (or *module*, as it's also called)."
   ]
  },
  {
   "cell_type": "code",
   "execution_count": 8,
   "metadata": {},
   "outputs": [
    {
     "data": {
      "text/plain": [
       "['ArithmeticError',\n",
       " 'AssertionError',\n",
       " 'AttributeError',\n",
       " 'BaseException',\n",
       " 'BufferError',\n",
       " 'BytesWarning',\n",
       " 'DeprecationWarning',\n",
       " 'EOFError',\n",
       " 'Ellipsis',\n",
       " 'EnvironmentError',\n",
       " 'Exception',\n",
       " 'False',\n",
       " 'FloatingPointError',\n",
       " 'FutureWarning',\n",
       " 'GeneratorExit',\n",
       " 'IOError',\n",
       " 'ImportError',\n",
       " 'ImportWarning',\n",
       " 'IndentationError',\n",
       " 'IndexError',\n",
       " 'KeyError',\n",
       " 'KeyboardInterrupt',\n",
       " 'LookupError',\n",
       " 'MemoryError',\n",
       " 'NameError',\n",
       " 'None',\n",
       " 'NotImplemented',\n",
       " 'NotImplementedError',\n",
       " 'OSError',\n",
       " 'OverflowError',\n",
       " 'PendingDeprecationWarning',\n",
       " 'ReferenceError',\n",
       " 'RuntimeError',\n",
       " 'RuntimeWarning',\n",
       " 'StandardError',\n",
       " 'StopIteration',\n",
       " 'SyntaxError',\n",
       " 'SyntaxWarning',\n",
       " 'SystemError',\n",
       " 'SystemExit',\n",
       " 'TabError',\n",
       " 'True',\n",
       " 'TypeError',\n",
       " 'UnboundLocalError',\n",
       " 'UnicodeDecodeError',\n",
       " 'UnicodeEncodeError',\n",
       " 'UnicodeError',\n",
       " 'UnicodeTranslateError',\n",
       " 'UnicodeWarning',\n",
       " 'UserWarning',\n",
       " 'ValueError',\n",
       " 'Warning',\n",
       " 'WindowsError',\n",
       " 'ZeroDivisionError',\n",
       " '__IPYTHON__',\n",
       " '__debug__',\n",
       " '__doc__',\n",
       " '__import__',\n",
       " '__name__',\n",
       " '__package__',\n",
       " 'abs',\n",
       " 'all',\n",
       " 'any',\n",
       " 'apply',\n",
       " 'basestring',\n",
       " 'bin',\n",
       " 'bool',\n",
       " 'buffer',\n",
       " 'bytearray',\n",
       " 'bytes',\n",
       " 'callable',\n",
       " 'chr',\n",
       " 'classmethod',\n",
       " 'cmp',\n",
       " 'coerce',\n",
       " 'compile',\n",
       " 'complex',\n",
       " 'copyright',\n",
       " 'credits',\n",
       " 'delattr',\n",
       " 'dict',\n",
       " 'dir',\n",
       " 'display',\n",
       " 'divmod',\n",
       " 'dreload',\n",
       " 'enumerate',\n",
       " 'eval',\n",
       " 'execfile',\n",
       " 'file',\n",
       " 'filter',\n",
       " 'float',\n",
       " 'format',\n",
       " 'frozenset',\n",
       " 'get_ipython',\n",
       " 'getattr',\n",
       " 'globals',\n",
       " 'hasattr',\n",
       " 'hash',\n",
       " 'help',\n",
       " 'hex',\n",
       " 'id',\n",
       " 'input',\n",
       " 'int',\n",
       " 'intern',\n",
       " 'isinstance',\n",
       " 'issubclass',\n",
       " 'iter',\n",
       " 'len',\n",
       " 'license',\n",
       " 'list',\n",
       " 'locals',\n",
       " 'long',\n",
       " 'map',\n",
       " 'max',\n",
       " 'memoryview',\n",
       " 'min',\n",
       " 'next',\n",
       " 'object',\n",
       " 'oct',\n",
       " 'open',\n",
       " 'ord',\n",
       " 'pow',\n",
       " 'print',\n",
       " 'property',\n",
       " 'range',\n",
       " 'raw_input',\n",
       " 'reduce',\n",
       " 'reload',\n",
       " 'repr',\n",
       " 'reversed',\n",
       " 'round',\n",
       " 'set',\n",
       " 'setattr',\n",
       " 'slice',\n",
       " 'sorted',\n",
       " 'staticmethod',\n",
       " 'str',\n",
       " 'sum',\n",
       " 'super',\n",
       " 'tuple',\n",
       " 'type',\n",
       " 'unichr',\n",
       " 'unicode',\n",
       " 'vars',\n",
       " 'xrange',\n",
       " 'zip']"
      ]
     },
     "execution_count": 8,
     "metadata": {},
     "output_type": "execute_result"
    }
   ],
   "source": [
    "dir(__builtins__)"
   ]
  },
  {
   "cell_type": "markdown",
   "metadata": {},
   "source": [
    "The special __builtins__ module holds all of the built-in functions and some other special objects. There are two underscores both before and after the word `builtins`. The double underscore is common for some built-in items in Python. You'll rarely use them and you should generally avoid naming your own things that way, but it's important to know the notation.\n",
    "\n",
    "If you look carefully in the big list of stuff returned from `dir(__builtins__)`, you will find the `list`, `range`, and `sum` functions we used above. You will **not**, however, find some other important functions, for example, `sin` or `cos` or `sqrt`. All of these functions (and many more) are in the `math` module. There are many modules (libraries) of functions available to you for use as part of Anaconda Python, along with even more available for download beyond that foundation. (*Downloading modules may not be supported on lab computers.*)"
   ]
  },
  {
   "cell_type": "markdown",
   "metadata": {},
   "source": [
    "## Importing other code (or \"modules\")\n",
    "\n",
    "To access functions that are not built-in by default, you need to load them from their modules or libraries. (We use those terms interchangeably.) Try out these examples to get familar with how to access Python's many libraries:\n",
    "\n",
    "1) You can import a module and then access its functions with that module name:"
   ]
  },
  {
   "cell_type": "code",
   "execution_count": 9,
   "metadata": {},
   "outputs": [
    {
     "data": {
      "text/plain": [
       "3.0"
      ]
     },
     "execution_count": 9,
     "metadata": {},
     "output_type": "execute_result"
    }
   ],
   "source": [
    "import math  # you don't need to import each time you use a module, I'm just repeating it here for demonstration.\n",
    "\n",
    "math.sqrt(9)"
   ]
  },
  {
   "cell_type": "markdown",
   "metadata": {},
   "source": [
    "Note that `sqrt` returns a `float` even if its input is an `int`."
   ]
  },
  {
   "cell_type": "code",
   "execution_count": 10,
   "metadata": {},
   "outputs": [
    {
     "data": {
      "text/plain": [
       "-0.9999999999964793"
      ]
     },
     "execution_count": 10,
     "metadata": {},
     "output_type": "execute_result"
    }
   ],
   "source": [
    "math.cos(3.14159)"
   ]
  },
  {
   "cell_type": "markdown",
   "metadata": {},
   "source": [
    "Note that `cos` et al. take radians as input. If you're not sure what input a function takes, ask for `help`:"
   ]
  },
  {
   "cell_type": "code",
   "execution_count": 11,
   "metadata": {},
   "outputs": [
    {
     "name": "stdout",
     "output_type": "stream",
     "text": [
      "Help on built-in function cos in module math:\n",
      "\n",
      "cos(...)\n",
      "    cos(x)\n",
      "    \n",
      "    Return the cosine of x (measured in radians).\n",
      "\n"
     ]
    }
   ],
   "source": [
    "help(math.cos)"
   ]
  },
  {
   "cell_type": "markdown",
   "metadata": {},
   "source": [
    "2) Tired of typing `math` in front of things? You can avoid this with"
   ]
  },
  {
   "cell_type": "code",
   "execution_count": 12,
   "metadata": {},
   "outputs": [],
   "source": [
    "from math import *"
   ]
  },
  {
   "cell_type": "markdown",
   "metadata": {},
   "source": [
    "The asterisk `*` here means \"everything\". This will bring all of the functions and constants from the `math` module into your current Python environment, and you can use them without prefacing them by `math`."
   ]
  },
  {
   "cell_type": "code",
   "execution_count": 13,
   "metadata": {},
   "outputs": [
    {
     "data": {
      "text/plain": [
       "-1.0"
      ]
     },
     "execution_count": 13,
     "metadata": {},
     "output_type": "execute_result"
    }
   ],
   "source": [
    "cos(pi)"
   ]
  },
  {
   "cell_type": "markdown",
   "metadata": {},
   "source": [
    "This would have had to be `math.cos(math.pi)` before the new `from math import *` statement.\n",
    "\n",
    "<font color='darkred'>Note: Using `import *` is considered a poor practice and can lead to hard-to-find problems when using multiple libraries that may share the same function name.</font>\n",
    "\n",
    "3) Instead, it is better to stick with the `math.cos` approach or import only what you need:"
   ]
  },
  {
   "cell_type": "code",
   "execution_count": 14,
   "metadata": {},
   "outputs": [
    {
     "ename": "NameError",
     "evalue": "name 'cos' is not defined",
     "output_type": "error",
     "traceback": [
      "\u001b[1;31m---------------------------------------------------------------------------\u001b[0m",
      "\u001b[1;31mNameError\u001b[0m                                 Traceback (most recent call last)",
      "\u001b[1;32m<ipython-input-14-be668e746e98>\u001b[0m in \u001b[0;36m<module>\u001b[1;34m()\u001b[0m\n\u001b[0;32m      1\u001b[0m \u001b[1;32mdel\u001b[0m \u001b[0mcos\u001b[0m\u001b[1;33m,\u001b[0m \u001b[0mpi\u001b[0m  \u001b[1;31m# delete cos and pi from our environment (for demonstration purposes)\u001b[0m\u001b[1;33m\u001b[0m\u001b[0m\n\u001b[0;32m      2\u001b[0m \u001b[1;33m\u001b[0m\u001b[0m\n\u001b[1;32m----> 3\u001b[1;33m \u001b[0mcos\u001b[0m\u001b[1;33m(\u001b[0m\u001b[0mpi\u001b[0m\u001b[1;33m)\u001b[0m  \u001b[1;31m# will raise an error\u001b[0m\u001b[1;33m\u001b[0m\u001b[0m\n\u001b[0m",
      "\u001b[1;31mNameError\u001b[0m: name 'cos' is not defined"
     ]
    }
   ],
   "source": [
    "del cos, pi  # delete cos and pi from our environment (for demonstration purposes)\n",
    "\n",
    "cos(pi)  # will raise an error"
   ]
  },
  {
   "cell_type": "code",
   "execution_count": 15,
   "metadata": {},
   "outputs": [
    {
     "data": {
      "text/plain": [
       "-1.0"
      ]
     },
     "execution_count": 15,
     "metadata": {},
     "output_type": "execute_result"
    }
   ],
   "source": [
    "from math import (cos, pi)\n",
    "\n",
    "cos(pi)"
   ]
  },
  {
   "cell_type": "markdown",
   "metadata": {},
   "source": [
    "The parentheses in the `import` statement aren't strictly required, but they are considered good style by some. It also lets you split over multiple lines in case you're importing many things from a module."
   ]
  },
  {
   "cell_type": "markdown",
   "metadata": {},
   "source": [
    "## Custom Functions\n",
    "\n",
    "Functions are the fundamental building blocks of computation. What distinguishes Python from many other computing environments is the ease and power of creating your own functions.\n",
    "\n",
    "Here's a simple example. The text between the triple-quotes `\"\"\"` is documentation for the function and affects the readability and maintainability of your code, but it doesn't change how the function works. (More on this later.)"
   ]
  },
  {
   "cell_type": "code",
   "execution_count": 16,
   "metadata": {},
   "outputs": [],
   "source": [
    "def dbl(x):\n",
    "    \"\"\"Returns two times the input.\n",
    "    \n",
    "    Args:\n",
    "      x (int, float, or str): the number or string to be doubled\n",
    "      \n",
    "    Returns:\n",
    "      int, float, or str (same type as x)\n",
    "    \n",
    "    \"\"\"\n",
    "    return 2*x"
   ]
  },
  {
   "cell_type": "markdown",
   "metadata": {},
   "source": [
    "When you run this cell, you won't see any output. However, your newly defined function, `dbl`, is now available.\n",
    "\n",
    "Try using it for a number and a string:"
   ]
  },
  {
   "cell_type": "code",
   "execution_count": 18,
   "metadata": {
    "scrolled": true
   },
   "outputs": [
    {
     "data": {
      "text/plain": [
       "6"
      ]
     },
     "execution_count": 18,
     "metadata": {},
     "output_type": "execute_result"
    }
   ],
   "source": [
    "# replace ... with a number or string. You can edit and re-run the cell.\n",
    "dbl(3)"
   ]
  },
  {
   "cell_type": "markdown",
   "metadata": {},
   "source": [
    "### Signature and Docstring\n",
    "\n",
    "The first line of a Python function is called its *signature*. The function signature includes the keyword `def`, the name of the function, and a parenthesized list of inputs to the function. (Functions with zero arguments are allowed but still need the parentheses.)\n",
    "\n",
    "Directly underneath the signature is a string inside triple quotes `\"\"\"`. This is called the *docstring* (short for documentation string). In this course, you are asked to include docstrings for all your functions, even simple ones, to develop the habit for later when you write complex functions.\n",
    "\n",
    "A docstring should describe the function and its inputs & outputs. Docstrings are how *your* functions become part of Python's built-in help system. To see this, type:"
   ]
  },
  {
   "cell_type": "code",
   "execution_count": 19,
   "metadata": {},
   "outputs": [
    {
     "name": "stdout",
     "output_type": "stream",
     "text": [
      "Help on function dbl in module __main__:\n",
      "\n",
      "dbl(x)\n",
      "    Returns two times the input.\n",
      "    \n",
      "    Args:\n",
      "      x (int, float, or str): the number or string to be doubled\n",
      "      \n",
      "    Returns:\n",
      "      int, float, or str (same type as x)\n",
      "\n"
     ]
    }
   ],
   "source": [
    "help(dbl)"
   ]
  },
  {
   "cell_type": "markdown",
   "metadata": {},
   "source": [
    "and you will see that Python provides the docstring as the help! The language's help system is built from docstrings. This self-documenting feature in Python is expecially important for making your functions understandable---both to others and to yourself.\n",
    "\n",
    "<font color=\"darkred\">**Important warning**</font>: the first set of triple quotes of a docstring needs to be indented underneath the function definition `def` line, at the same level of indentation as the rest of the block of code that defines the function."
   ]
  },
  {
   "cell_type": "markdown",
   "metadata": {},
   "source": [
    "# Task: Writing your own functions\n",
    "\n",
    "Now it's your turn.\n",
    "\n",
    "For each of these functions, be sure to include a docstring that describes **what your function does** and **what its inputs and outputs are**. Please use the same function name and argument list as instructed. \n",
    "\n",
    "We'll show an example first."
   ]
  },
  {
   "cell_type": "markdown",
   "metadata": {},
   "source": [
    "**Example:** Write the function `triple(x)`, which takes in a numeric or string input and ouputs three times the input.\n",
    "\n",
    "**Answer to example:**"
   ]
  },
  {
   "cell_type": "code",
   "execution_count": 22,
   "metadata": {},
   "outputs": [],
   "source": [
    "def triple(x):\n",
    "    \"\"\"Returns three times the input.\n",
    "    \n",
    "      \n",
    "    Returns:\n",
    "      int, float, or str (same type as x)\n",
    "    \n",
    "    \"\"\"\n",
    "    return 3*x"
   ]
  },
  {
   "cell_type": "code",
   "execution_count": 23,
   "metadata": {},
   "outputs": [
    {
     "data": {
      "text/plain": [
       "7.5"
      ]
     },
     "execution_count": 23,
     "metadata": {},
     "output_type": "execute_result"
    }
   ],
   "source": [
    "triple(2.5)"
   ]
  },
  {
   "cell_type": "code",
   "execution_count": 24,
   "metadata": {},
   "outputs": [
    {
     "data": {
      "text/plain": [
       "'test test test '"
      ]
     },
     "execution_count": 24,
     "metadata": {},
     "output_type": "execute_result"
    }
   ],
   "source": [
    "triple('test ')"
   ]
  },
  {
   "cell_type": "markdown",
   "metadata": {},
   "source": [
    "Jupyter tip: Writing each function in its own cell can help you stay organized and let you edit and run self-contained bits of code without re-running everything. It gives you room to insert Markdown cells for writing more descriptions than what belong in a docstring. There are multiple ways to add cells, but as a starting point, click the plus + icon in the toolbar."
   ]
  },
  {
   "cell_type": "markdown",
   "metadata": {},
   "source": [
    "1) Write `square(x)`, which takes a numeric input and outputs the square of its input.\n",
    "\n",
    "Example:  `square(3) -> 9`\n",
    "\n",
    "For a note on math operators in Python, see this [StackOverflow](https://stackoverflow.com/a/30148765) answer."
   ]
  },
  {
   "cell_type": "code",
   "execution_count": 26,
   "metadata": {},
   "outputs": [],
   "source": [
    "def square(x):\n",
    "    \"\"\"\n",
    "    This function returns the square of the input\n",
    "    \n",
    "    Returns:\n",
    "      int, float, or str (same type as x)\n",
    "        \"\"\"\n",
    "    return x**2"
   ]
  },
  {
   "cell_type": "code",
   "execution_count": 27,
   "metadata": {},
   "outputs": [
    {
     "data": {
      "text/plain": [
       "4"
      ]
     },
     "execution_count": 27,
     "metadata": {},
     "output_type": "execute_result"
    }
   ],
   "source": [
    "square(2)  # replace the ... with a test value for your function, then run it"
   ]
  },
  {
   "cell_type": "markdown",
   "metadata": {},
   "source": [
    "2) `interpolate(low, high, fraction)` takes in three numbers and should return the floating-point value that is `fraction` of the way between `low` and `high`. If `fraction = 0`, then `interp` returns `low`; if `fraction = 1`, `interp` returns `high`. A value of `fraction` between 0 and 1 produces a value between `low` and `high` (i.e., linear interpolation).\n",
    "\n",
    "As an example, \n",
    "\n",
    "`interpolate(1.0, 9.0, 0.25) -> 3.0`\n",
    "\n",
    "Reviewing [Variables and Assignment](https://www.pythonlikeyoumeanit.com/Module2_EssentialsOfPython/Variables_and_Assignment.html) may be helpful. (True, reading from that module hasn't been assigned yet, but it does capture some of the items quickly shown in Module 1 and reviewing it now gets you ahead on the reading!)\n",
    "\n",
    "From this description, you may be tempted to divide the function into several cases using `if/else` statements. But, this function can be constructed with no conditional statements. Try it!"
   ]
  },
  {
   "cell_type": "code",
   "execution_count": 32,
   "metadata": {},
   "outputs": [],
   "source": [
    "def interpolate(low, high, fraction):\n",
    "    \"\"\"\n",
    "    Returns the floating-point value that is fraction of the way between low and high\n",
    "    \n",
    "    Returns: float\n",
    "    \"\"\"\n",
    "    distance = high - low\n",
    "    \n",
    "    delta = distance * fraction\n",
    "    \n",
    "    return low + delta"
   ]
  },
  {
   "cell_type": "code",
   "execution_count": 36,
   "metadata": {},
   "outputs": [
    {
     "data": {
      "text/plain": [
       "3.0"
      ]
     },
     "execution_count": 36,
     "metadata": {},
     "output_type": "execute_result"
    }
   ],
   "source": [
    "# test your function here\n",
    "interpolate(1.0,9.0,0.25)"
   ]
  },
  {
   "cell_type": "code",
   "execution_count": 37,
   "metadata": {},
   "outputs": [
    {
     "data": {
      "text/plain": [
       "1.0"
      ]
     },
     "execution_count": 37,
     "metadata": {},
     "output_type": "execute_result"
    }
   ],
   "source": [
    "interpolate(1.0,9.0,0)"
   ]
  },
  {
   "cell_type": "code",
   "execution_count": 38,
   "metadata": {},
   "outputs": [
    {
     "data": {
      "text/plain": [
       "9.0"
      ]
     },
     "execution_count": 38,
     "metadata": {},
     "output_type": "execute_result"
    }
   ],
   "source": [
    "interpolate(1.0,9.0,1)"
   ]
  },
  {
   "cell_type": "markdown",
   "metadata": {},
   "source": [
    "3) Write a function `checkEnds(s)`, which takes a string `s` and returns `True` if the first character in `s` is the same as the last character in `s`. It returns `False` otherwise. The function does not need to work on the empty string `''`. It does need to work on a single character. Here are some test cases:\n",
    "\n",
    "`'no match' -> False\n",
    "'hah! a match' -> True\n",
    "'q' -> True\n",
    "' ' -> True`\n",
    "\n",
    "Note: Your function **should not return strings**. Rather, it should return a *boolean value* of `True` or `False`, without any quotes. These are keywords recognized by Python.\n",
    "\n",
    "References:\n",
    "    [Indexing](https://www.pythonlikeyoumeanit.com/Module2_EssentialsOfPython/SequenceTypes.html#Indexing); \n",
    "    [Conditional Statements](https://www.pythonlikeyoumeanit.com/Module2_EssentialsOfPython/ConditionalStatements.html)    "
   ]
  },
  {
   "cell_type": "code",
   "execution_count": 49,
   "metadata": {},
   "outputs": [],
   "source": [
    "# write your function here\n",
    "\"\"\"\n",
    "if the first character is the same as the last character, returns true, \n",
    "otherwise the function returns false. Input of function is a character.\n",
    "\n",
    "Returns: Boolean Value\n",
    "\"\"\"\n",
    "def checkEnds(s):\n",
    "    if s[0] == s[-1]:\n",
    "        return True\n",
    "    else:\n",
    "        return False"
   ]
  },
  {
   "cell_type": "code",
   "execution_count": 50,
   "metadata": {},
   "outputs": [
    {
     "data": {
      "text/plain": [
       "True"
      ]
     },
     "execution_count": 50,
     "metadata": {},
     "output_type": "execute_result"
    }
   ],
   "source": [
    "# test your function here\n",
    "checkEnds(\"q\")"
   ]
  },
  {
   "cell_type": "code",
   "execution_count": 51,
   "metadata": {},
   "outputs": [
    {
     "data": {
      "text/plain": [
       "False"
      ]
     },
     "execution_count": 51,
     "metadata": {},
     "output_type": "execute_result"
    }
   ],
   "source": [
    "checkEnds('no match')"
   ]
  },
  {
   "cell_type": "code",
   "execution_count": 53,
   "metadata": {},
   "outputs": [
    {
     "data": {
      "text/plain": [
       "True"
      ]
     },
     "execution_count": 53,
     "metadata": {},
     "output_type": "execute_result"
    }
   ],
   "source": [
    "checkEnds('so I found a match guys')"
   ]
  },
  {
   "cell_type": "markdown",
   "metadata": {},
   "source": [
    "4) Write a function `flipside(s)`, which takes in a string `s` and returns a string whose first half is `s`'s second half and whose second half is `s`'s first half. If `len(s)` (the length of `s`) is odd, the first half of the input string should have one fewer character than the second half.\n",
    "\n",
    "Examples:\n",
    "\n",
    "`'homework' -> 'workhome'\n",
    "'carpets' -> 'petscar'`\n",
    "\n",
    "Hint: This function is simpler if you create a variable equal to `len(s)//2` as the first line. (The two slashes `//` does division and rounds down the result; see [Glossary](https://docs.python.org/3.6/glossary.html) and search for 'floor division'.)"
   ]
  },
  {
   "cell_type": "code",
   "execution_count": 65,
   "metadata": {},
   "outputs": [],
   "source": [
    "\"\"\"\n",
    "Function takes in a string as an input\n",
    "Returns: string whose first half is `s`'s second half and whose second half is `s`'s first half\n",
    "\"\"\"\n",
    "def flipside(s):\n",
    "    x = len(s)//2\n",
    "    first_half = s[0:x]\n",
    "    second_half = s[x:len(s)]\n",
    "    return second_half+first_half\n",
    "    "
   ]
  },
  {
   "cell_type": "code",
   "execution_count": 66,
   "metadata": {},
   "outputs": [
    {
     "data": {
      "text/plain": [
       "'workhome'"
      ]
     },
     "execution_count": 66,
     "metadata": {},
     "output_type": "execute_result"
    }
   ],
   "source": [
    "flipside(\"homework\")"
   ]
  },
  {
   "cell_type": "code",
   "execution_count": 67,
   "metadata": {},
   "outputs": [
    {
     "data": {
      "text/plain": [
       "'petscar'"
      ]
     },
     "execution_count": 67,
     "metadata": {},
     "output_type": "execute_result"
    }
   ],
   "source": [
    "flipside(\"carpets\")"
   ]
  },
  {
   "cell_type": "markdown",
   "metadata": {},
   "source": [
    "5) Write `convertFromSeconds(s)`, which takes in a nonnegative **integer** number of seconds `s` and returns a list of four nonnegative integers that represent the number of seconds in more conventional units of time, such that each element of the list represents:\n",
    "\n",
    "    - element 1: number of days\n",
    "    - element 2: number of hours\n",
    "    - element 3: number of minutes\n",
    "    - element 4: number of seconds\n",
    "    \n",
    "You should be sure that\n",
    "\n",
    "    - 0 ≤ seconds < 60\n",
    "    - 0 ≤ minutes < 60\n",
    "    - 0 ≤ hours < 24\n",
    "    \n",
    "Examples:\n",
    "\n",
    "`convertFromSeconds(610) -> [0, 0, 10, 10]\n",
    "convertFromSeconds(100000) -> [1, 3, 46, 40]`\n",
    "\n",
    "Note: Be sure you return one list and not four separate values.\n",
    "\n",
    "The built-in function `divmod(a, b)` might be helpful ([documentation](https://docs.python.org/3.6/library/functions.html#divmod)). Also, it may help to create variables for each element first, then build a list and return it last."
   ]
  },
  {
   "cell_type": "code",
   "execution_count": 87,
   "metadata": {},
   "outputs": [],
   "source": [
    "\"\"\"\n",
    "Takes in a nonnegative integer \n",
    "Returns: A list of values that recursively works through each remainder of days, hours, minutes, and seconds. \n",
    "\"\"\"\n",
    "\n",
    "def convertFromSeconds(s):\n",
    "    s_in_day = 60*60*24\n",
    "    s_in_hour = 60*60\n",
    "    s_in_minute = 60\n",
    "    \n",
    "    num_days = divmod(s, s_in_day)\n",
    "    num_hours = divmod(num_days[1], s_in_hour)\n",
    "    num_minutes = divmod(num_hours[1], s_in_minute)\n",
    "    num_sec = divmod(num_minutes[1], s_in_minute)\n",
    "\n",
    "    return (num_days[0], num_hours[0], num_minutes[0], num_sec[1])"
   ]
  },
  {
   "cell_type": "code",
   "execution_count": 88,
   "metadata": {},
   "outputs": [
    {
     "data": {
      "text/plain": [
       "(0, 0, 10, 10)"
      ]
     },
     "execution_count": 88,
     "metadata": {},
     "output_type": "execute_result"
    }
   ],
   "source": [
    "convertFromSeconds(610)"
   ]
  },
  {
   "cell_type": "code",
   "execution_count": 89,
   "metadata": {},
   "outputs": [
    {
     "data": {
      "text/plain": [
       "(1, 3, 46, 40)"
      ]
     },
     "execution_count": 89,
     "metadata": {},
     "output_type": "execute_result"
    }
   ],
   "source": [
    "convertFromSeconds(100000)"
   ]
  },
  {
   "cell_type": "markdown",
   "metadata": {},
   "source": [
    "# Questions\n",
    "\n",
    "Answer the following questions using code, Markdown text, or both. (New cells default to code. Change cell type from the Cell menu in the toolbar, or when the cell is active, type `Esc`, then `m`.)\n",
    "\n",
    "1) What programming language(s) do you plan to use for your work in this course? Why? (Do remember you can change your mind on this choice later.)\n",
    "\n",
    "\n",
    "2) Will you primarily use a personal computer during these lab sessions or will you use a lab computer?\n",
    "\n",
    "\n",
    "3) You may have learned that the caret `^` symbol is not used for exponentiation in Python. What does it do, and what should you use instead for exponents?\n",
    "\n",
    "\n",
    "4) Describe in your own words what a *decision support system* is.\n",
    "\n",
    "\n",
    "5) List 3 reasons that computerized decision support is valuable. Which of the reasons you listed seems most important to you? Why?"
   ]
  },
  {
   "cell_type": "markdown",
   "metadata": {},
   "source": [
    "1) I plan on using python for this course, I have some experience in python in the past with internships from undergrad, but I have much more experience with R, so I'm taking this quarter with this course and OPER785 to hopefully even out my python and R skills."
   ]
  },
  {
   "cell_type": "markdown",
   "metadata": {},
   "source": [
    "2) I have one of the new MacBook Air m1 chip laptops coming in the middle of July(couldn't pick up due to custom RAM size) In the past I've been able to use my desktop at home, so I'll use a lab computer for the first couple of labs then move onto a laptop once it comes in."
   ]
  },
  {
   "cell_type": "markdown",
   "metadata": {},
   "source": [
    "3) From https://stackoverflow.com/questions/2451386/what-does-the-caret-operator-in-python-do its the XOR(exclusive OR), which results to true if one (and only one) of the operands (evaluates to) true. It can also be seen as a binary evaluator i.e. 8^3 = 11 from:\n",
    "1000 = 8\n",
    "0011 = 3\n",
    "1011 = 11\n",
    "The operator for an exponential in pyton is '**'"
   ]
  },
  {
   "cell_type": "markdown",
   "metadata": {},
   "source": [
    "4) A decision support system is a designed system, model, dashboard, etc. that is built in order to help a decision maker make the most educated decision possible given a set of data, objectives, and constraints. "
   ]
  },
  {
   "cell_type": "markdown",
   "metadata": {},
   "source": [
    "5) \n",
    "a) A visual aid for decision makers that don't need to know the backend of what's going on greatly simplifies the decision making process\n",
    "b) Having computerized decision support has a similar appeal to Machine Learning, it helps identify relationships in data and constraints that a human could miss given certain intricacies.\n",
    "c) A general speed to aid decision makers, modern day analysts are able to stand up a dashboard for a decision maker within a week, whereas before the age of computing power, calculations that were made for decision support would not only be much more difficult to perform, but they would also be more susceptible to error.  \n",
    "\n",
    "I would say given the amount of data that is going to exist in the coming years for analysts, the ability that computers have to perform calculations at a greater speed, especially when there are more and more variables introduced, on top of interactions such as constraints, the computing power that comes along with computerized decision support is the most important reason."
   ]
  },
  {
   "cell_type": "markdown",
   "metadata": {},
   "source": [
    " "
   ]
  },
  {
   "cell_type": "markdown",
   "metadata": {},
   "source": [
    "\n",
    "# Completion\n",
    "\n",
    "Congratulations! You should save and submit this notebook file to Canvas under the [Lab 1 Assignment](https://lms.au.af.edu/courses/24019/assignments/201501?module_item_id=745934) prior to leaving class.\n",
    "\n",
    "Assessment: \n",
    "\n",
    "1) (5 pts) Each of the five functions should:\n",
    "  - have an appropriate docstring\n",
    "  - have been tested at least once\n",
    "  - run without error for expected inputs\n",
    "  - produce correct output\n",
    "\n",
    "\n",
    "2) (5 pts) Each of the Questions are answered appropriately.\n",
    "\n",
    "\n",
    "3) If you worked with others, list their names below."
   ]
  },
  {
   "cell_type": "markdown",
   "metadata": {},
   "source": [
    " "
   ]
  }
 ],
 "metadata": {
  "kernelspec": {
   "display_name": "Python 3",
   "language": "python",
   "name": "python3"
  },
  "language_info": {
   "codemirror_mode": {
    "name": "ipython",
    "version": 3
   },
   "file_extension": ".py",
   "mimetype": "text/x-python",
   "name": "python",
   "nbconvert_exporter": "python",
   "pygments_lexer": "ipython3",
   "version": "3.8.8"
  }
 },
 "nbformat": 4,
 "nbformat_minor": 2
}
