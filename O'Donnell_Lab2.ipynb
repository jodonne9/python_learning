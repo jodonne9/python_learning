{
 "cells": [
  {
   "cell_type": "markdown",
   "metadata": {},
   "source": [
    "# Useful modules in the standard library\n",
    "\n",
    "<!-- (Adapted from [OOP in Python](https://python-textbok.readthedocs.io/en/1.0/Useful_Libraries.html)) -->\n",
    "\n",
    "Python comes with many built-in modules, such as the `math` module you encountered in Lab 1. This notebook will introduce you to a few more. There are homework problems throughout. You may solve these in the programming language of your choice and submit a different file, or if using Python, you can do them directly in this notebook.\n",
    "\n",
    "(Random tip: you can quickly comment/uncomment code with Ctrl+L.)\n",
    "\n",
    "For a complete list of modules in the standard library, check out [Python Standard Library documentation](https://docs.python.org/3/library/index.html); note that the latest version of Python may have different choices than what you are running. Also note that if you use the Anaconda distribution of Python, there are many more modules pre-installed beyond those in the standard library. You can see what is installed on your computer by opening the Anaconda Prompt (a special command prompt/terminal for Anaconda) and running `conda list`.\n",
    "\n",
    "> Terminology note: a *package* is what you install to get new *modules*. The programs `pip` and `conda` are *package managers* that can install packages and upgrade existing modules. A *library* is a collection of modules.\n",
    "\n",
    "[datetime](#datetime)\n",
    "[math](#math)\n",
    "[random](#random)\n",
    "[re](#re)\n",
    "[csv](#csv)\n",
    "[Questions](#Questions)"
   ]
  },
  {
   "cell_type": "markdown",
   "metadata": {},
   "source": [
    "<a id='datetime'></a>\n",
    "\n",
    "## Date and time: `datetime`\n",
    "\n",
    "The datetime module provides us with objects which we can use to store information about dates and times:\n",
    "\n",
    "* `datetime.date` is used to create dates which are not associated with a time.\n",
    "* `datetime.time` is used for times which are independent of a date.\n",
    "* `datetime.datetime` is used for objects which have both a date and a time.\n",
    "* `datetime.timedelta` objects store differences between dates or datetimes – if we subtract one datetime from another, the result will be a timedelta.\n",
    "* `datetime.timezone` objects represent time zone adjustments as offsets from UTC. This class is a subclass of `datetime.tzinfo`, which is not meant to be used directly.\n",
    "\n",
    "We can query these objects for a particular component (like the year, month, hour or minute), perform arithmetic on them, and extract printable string versions from them if we need to display them. Here are a few examples:\n",
    "\n",
    "> Run the code cells to see the results. Feel free to edit cells and re-run to experiment with the code. You can create new cells to run `help` commands on objects for more information."
   ]
  },
  {
   "cell_type": "code",
   "execution_count": 1,
   "metadata": {},
   "outputs": [
    {
     "name": "stdout",
     "output_type": "stream",
     "text": [
      "2021\n",
      "20\n",
      "46\n"
     ]
    }
   ],
   "source": [
    "import datetime\n",
    "\n",
    "# this class method creates a datetime object with the current date and time\n",
    "now = datetime.datetime.today()\n",
    "\n",
    "print(now.year)\n",
    "print(now.hour)\n",
    "print(now.minute)"
   ]
  },
  {
   "cell_type": "code",
   "execution_count": 2,
   "metadata": {},
   "outputs": [
    {
     "name": "stdout",
     "output_type": "stream",
     "text": [
      "1\n",
      "Tue, 06 July 2021\n",
      "1999-03-14 15:09:26\n",
      "True\n"
     ]
    }
   ],
   "source": [
    "print(now.weekday())\n",
    "\n",
    "print(now.strftime(\"%a, %d %B %Y\"))\n",
    "\n",
    "long_ago = datetime.datetime(1999, 3, 14, 15, 9, 26)\n",
    "\n",
    "print(long_ago) # remember that this calls str automatically\n",
    "print(long_ago < now) # nice that comparison operators are defined on dates"
   ]
  },
  {
   "cell_type": "markdown",
   "metadata": {},
   "source": [
    "> The full list of options for `strftime` is available [here](https://docs.python.org/3.6/library/datetime.html#strftime-and-strptime-behavior). Note that capital and lowercase options have different meanings!"
   ]
  },
  {
   "cell_type": "code",
   "execution_count": null,
   "metadata": {},
   "outputs": [],
   "source": [
    "difference = now - long_ago\n",
    "print(type(difference))\n",
    "print(difference) # remember that this calls str automatically"
   ]
  },
  {
   "cell_type": "markdown",
   "metadata": {},
   "source": [
    "(Note the `type` function in the 2nd to last line. That returns what data type a variable is. This can be useful for validating user input, or for exploring variables when you're learning new code.)"
   ]
  },
  {
   "cell_type": "code",
   "execution_count": null,
   "metadata": {},
   "outputs": [],
   "source": [
    "user_input = \"hello\"\n",
    "if type(user_input) != float:\n",
    "    print('error')"
   ]
  },
  {
   "cell_type": "markdown",
   "metadata": {},
   "source": [
    "----------\n",
    "\n",
    "There's a saying in programming:\n",
    "\n",
    "> *The sooner you start writing code, the longer it takes.*\n",
    "\n",
    "This means, if you immediately start to write code without spending time planning your work, you'll often spend extra time re-working your code. Try taking a few moments to plan out the code you'll write in plain English for the following exercises. Maybe write some comments to help structure things, then fill in the code afterward.\n",
    "\n",
    "---------"
   ]
  },
  {
   "cell_type": "markdown",
   "metadata": {},
   "source": [
    "## <font color=\"blue\">Exercise 1</font>\n",
    "\n",
    "Print ten dates, each two weeks apart, starting from today. Format them in the form *YYYY-MM-DD*. So, dates only, no times. Each date should appear on its own line by itself.\n",
    "\n",
    "Hint: use a [loop](https://www.pythonlikeyoumeanit.com/Module2_EssentialsOfPython/ForLoops.html#For-Loops) to make things better. Use the [`range`](https://www.pythonlikeyoumeanit.com/Module2_EssentialsOfPython/Generators_and_Comprehensions.html#The-range-generator) generator.\n",
    "\n",
    "Since this is homework, please make your answers \"stand alone\". As in, import whatever modules you need for *each* answer. In practice, we don't do that (just import one time), but for assignments, please do. (Assume I'll run only the cells for an individual exercise to test it.)\n",
    "\n",
    "Also keep readability in mind...use \"good\" variable names, write useful comments as appropriate, and such.\n",
    "\n",
    "Make sure you test your code a bit before submitting. You can use the tests I provide below or write some of your own."
   ]
  },
  {
   "cell_type": "code",
   "execution_count": 15,
   "metadata": {
    "deletable": false,
    "nbgrader": {
     "cell_type": "code",
     "checksum": "b2ecbb0cc311563dc8be90b512e9ddcf",
     "grade": false,
     "grade_id": "printDates",
     "locked": false,
     "schema_version": 3,
     "solution": true,
     "task": false
    }
   },
   "outputs": [
    {
     "name": "stdout",
     "output_type": "stream",
     "text": [
      "Starting Date: 2016-08-01\n",
      "Next 10 dates :\n",
      "2016-08-15\n",
      "2016-08-29\n",
      "2016-09-12\n",
      "2016-09-26\n",
      "2016-10-10\n",
      "2016-10-24\n",
      "2016-11-07\n",
      "2016-11-21\n",
      "2016-12-05\n",
      "2016-12-19\n"
     ]
    }
   ],
   "source": [
    "import datetime \n",
    "\n",
    "def printDates(date):\n",
    "    \"\"\" Prints the next ten days from a given starting date\n",
    "        args: Year, month, day\n",
    "        \n",
    "    \"\"\"\n",
    "# Two strings for clarity of variables set within the function after running the code\n",
    "    print('Starting Date: {d}'.format(d=date))\n",
    "    print(\"Next 10 dates :\")\n",
    "    #Loop to iterate through 10 dates sequentially  \n",
    "    for _ in range(10):\n",
    "        date=date+datetime.timedelta(days=14)\n",
    "        print('{d}'.format(d=date))\n",
    "\n",
    "dt = datetime.date(2016,8,1)\n",
    "printDates(dt)\n",
    "    "
   ]
  },
  {
   "cell_type": "markdown",
   "metadata": {},
   "source": [
    "These are automated tests that I will run on your solution. You should run them yourself before submitting by running this cell. Note that I will often run additional tests as appropriate, so your solution needs to solve the problem, not merely pass the provided tests."
   ]
  },
  {
   "cell_type": "code",
   "execution_count": null,
   "metadata": {
    "deletable": false,
    "editable": false,
    "nbgrader": {
     "cell_type": "code",
     "checksum": "67e57b7644702ac538fdda484ba3d88f",
     "grade": true,
     "grade_id": "printDates_tests",
     "locked": true,
     "points": 2,
     "schema_version": 3,
     "solution": false,
     "task": false
    }
   },
   "outputs": [],
   "source": [
    "#\n",
    "# This is a function I wrote to help me with grading. You are free to ignore it.\n",
    "#\n",
    "def _test_printedFunction(func):\n",
    "    \"\"\"Returns a string of any printed output and a single/tuple of any objects returned by func.\"\"\"\n",
    "    import io, sys\n",
    "    \n",
    "    capturedOutput = io.StringIO()                  # Create StringIO object to store output from print()\n",
    "    current_stdout = sys.stdout                     # Save current output to reset later\n",
    "    sys.stdout = capturedOutput                     #  and redirect stdout.\n",
    "    \n",
    "    func_res = func()                               # Call function. Printed output will be captured, return values goto func_res\n",
    "    sys.stdout = current_stdout                     # Reset redirect immediately.\n",
    "    \n",
    "    return capturedOutput.getvalue(), func_res      # Return contents of captured ouptut and any func return values\n",
    "\n",
    "##############################\n",
    "\n",
    "\n",
    "printDates()  # This just runs the function without checking anything. Actually running is an important first step!\n",
    "    \n",
    "# _test_printedFunction() is a custom function I use to help with grading\n",
    "output, res = _test_printedFunction(printDates)\n",
    "output = output.split()  # convert into a list; by default, split() operates on line endings\n",
    "\n",
    "\n",
    "# assert statements: If the condition is True, nothing happens; if False, an exception is raised. \n",
    "# You want nothing to happen.\n",
    "assert len(output) == 10  # function actually printed 10 items\n",
    "assert len(output[0]) == 10  # the item is of the form YYYY-MM-DD\n",
    "assert output[0].startswith('2021-07-')  # day left out to let us run this successfully on different days\n"
   ]
  },
  {
   "cell_type": "markdown",
   "metadata": {},
   "source": [
    "<a id='math'></a>\n",
    "## Mathematical functions: `math`\n",
    "\n",
    "You saw this one before, so this is just a reminder. The functions in `math` can be used on floats and integers (mostly floats), and often return floats. Here are a few examples:"
   ]
  },
  {
   "cell_type": "code",
   "execution_count": 16,
   "metadata": {},
   "outputs": [
    {
     "data": {
      "text/plain": [
       "1.5707963267948966"
      ]
     },
     "execution_count": 16,
     "metadata": {},
     "output_type": "execute_result"
    }
   ],
   "source": [
    "import math\n",
    "\n",
    "# These are constant attributes, not functions\n",
    "math.pi\n",
    "math.e\n",
    "\n",
    "# round a float up or down\n",
    "math.ceil(3.3)\n",
    "math.floor(3.3)\n",
    "\n",
    "# natural logarithm\n",
    "math.log(5)\n",
    "\n",
    "# logarithm with base 10\n",
    "math.log(5, 10)\n",
    "math.log10(5) # this function is slightly more accurate\n",
    "\n",
    "# square root\n",
    "math.sqrt(10)\n",
    "\n",
    "# trigonometric functions\n",
    "math.sin(math.pi/2)\n",
    "math.cos(0)\n",
    "\n",
    "# convert between radians and degrees\n",
    "math.degrees(math.pi/2)\n",
    "math.radians(90)"
   ]
  },
  {
   "cell_type": "markdown",
   "metadata": {},
   "source": [
    "(Note that in a Jupyter notebook code cell, the last command is usually printed by default. So if that's all you want, you don't need `print()` statements.)\n",
    "\n",
    "If you need to do math on complex numbers, use the `cmath` module instead:"
   ]
  },
  {
   "cell_type": "code",
   "execution_count": 1,
   "metadata": {},
   "outputs": [
    {
     "data": {
      "text/plain": [
       "(3.303250763250131+0.12161902326134658j)"
      ]
     },
     "execution_count": 1,
     "metadata": {},
     "output_type": "execute_result"
    }
   ],
   "source": [
    "import cmath\n",
    "\n",
    "cmath.log(3.3j + 27)"
   ]
  },
  {
   "cell_type": "markdown",
   "metadata": {},
   "source": [
    "## <font color=\"blue\">Exercise 2</font>\n",
    "\n",
    "Write an object that represents a sphere of a given radius. Write a function that calculates the sphere's volume and another function that calculates its surface area.\n",
    "\n",
    "Spheres with radius=0 are confusing, so don't allow that. In fact, let's force all spheres to have a minimum radius of 1. You can warn the user you're changing the radius, but you shouldn't stop execution.\n",
    "\n",
    "(Since we haven't covered object-oriented programming yet, here's some scaffolding. Treat this as a preview for when we get to OOP, but don't stress about the details yet. You need to complete the functions and test them, though.)"
   ]
  },
  {
   "cell_type": "code",
   "execution_count": 6,
   "metadata": {
    "deletable": false,
    "nbgrader": {
     "cell_type": "code",
     "checksum": "323428c29e5c25456251120fde9ff01d",
     "grade": false,
     "grade_id": "sphere",
     "locked": false,
     "schema_version": 3,
     "solution": true,
     "task": false
    }
   },
   "outputs": [],
   "source": [
    "# YOUR CODE HERE\n",
    "import math\n",
    "pi = math.pi\n",
    "# think of classes as templates or prototypes for specific objects\n",
    "class Sphere:\n",
    "    \"\"\" The Sphere object has a radius and methods for computing things about it.\n",
    "    \n",
    "    Args: (the arguments/parameters passed to the __init__ function)\n",
    "      radius (float): The radius of the desired sphere in units; this is used for \n",
    "        calculating its volume and surface area.\n",
    "        \n",
    "    Attributes: (the bits of data that we store about the Sphere)\n",
    "      radius (float): The radius of the sphere. (This line isn't very interesting, I know.)\n",
    "    \n",
    "    \"\"\"\n",
    "    def __init__(self, radius):\n",
    "        # __init__ creates an \"instance\" of the Sphere based on a radius you give it\n",
    "        # You won't call __init__ directly, but it happens automatically when you\n",
    "        # call Sphere() the same way you would a function.\n",
    "        #\n",
    "        # most functions in a class have 'self' as the first parameter, but you\n",
    "        # mostly ignore that when you use Sphere later.\n",
    "        #\n",
    "        # note that it's customary for __init__ to not have a docstring, but if it\n",
    "        # does anything unusual, be sure to add some comments\n",
    "        self.radius = radius\n",
    "        \n",
    "        \n",
    "\n",
    "    def volume(self):\n",
    "        \"\"\" Returns the volume of the sphere based on its radius.\n",
    "        \n",
    "        Args: we don't think about `self` as an argument, so we can omit Args in this case\n",
    "            \n",
    "        Returns:\n",
    "          float: volume of the sphere in units**3\n",
    "        \n",
    "        \"\"\"\n",
    "        # note: if you want to refer to the radius of the sphere, use self.radius\n",
    "        volume = (4 * pi * self.radius**3)\n",
    "        \n",
    "        return volume\n",
    "\n",
    "        # return ...  # Note that I want you to return the value, not print it\n",
    "        \n",
    "    def surface_area(self):\n",
    "        \"\"\" Returns the surface area of a sphere based on its radius.\n",
    "        Args: None\n",
    "        Returns:\n",
    "        float: surface area of the sphere in units **2\n",
    "        \n",
    "        \"\"\"\n",
    "        surface_area = (4*pi*self.radius**2)\n",
    "        return surface_area\n"
   ]
  },
  {
   "cell_type": "code",
   "execution_count": 7,
   "metadata": {
    "deletable": false,
    "editable": false,
    "nbgrader": {
     "cell_type": "code",
     "checksum": "0e1454fce5cc56a77051952ef275655c",
     "grade": true,
     "grade_id": "sphere_tests",
     "locked": true,
     "points": 2,
     "schema_version": 3,
     "solution": false,
     "task": false
    }
   },
   "outputs": [
    {
     "ename": "AssertionError",
     "evalue": "",
     "output_type": "error",
     "traceback": [
      "\u001b[1;31m---------------------------------------------------------------------------\u001b[0m",
      "\u001b[1;31mAssertionError\u001b[0m                            Traceback (most recent call last)",
      "\u001b[1;32m<ipython-input-7-8599e91b1f2f>\u001b[0m in \u001b[0;36m<module>\u001b[1;34m\u001b[0m\n\u001b[0;32m      6\u001b[0m \u001b[1;33m\u001b[0m\u001b[0m\n\u001b[0;32m      7\u001b[0m \u001b[1;32massert\u001b[0m \u001b[0mabs\u001b[0m\u001b[1;33m(\u001b[0m\u001b[0mmy_sphere\u001b[0m\u001b[1;33m.\u001b[0m\u001b[0mvolume\u001b[0m\u001b[1;33m(\u001b[0m\u001b[1;33m)\u001b[0m \u001b[1;33m-\u001b[0m \u001b[1;36m339.292006\u001b[0m\u001b[1;33m)\u001b[0m \u001b[1;33m<\u001b[0m \u001b[1;36m1e-4\u001b[0m  \u001b[1;31m# since comparing floating point numbers, avoid checking exact equality\u001b[0m\u001b[1;33m\u001b[0m\u001b[1;33m\u001b[0m\u001b[0m\n\u001b[1;32m----> 8\u001b[1;33m \u001b[1;32massert\u001b[0m \u001b[0mabs\u001b[0m\u001b[1;33m(\u001b[0m\u001b[0mmy_sphere\u001b[0m\u001b[1;33m.\u001b[0m\u001b[0msurface_area\u001b[0m\u001b[1;33m(\u001b[0m\u001b[1;33m)\u001b[0m \u001b[1;33m-\u001b[0m \u001b[1;36m37.699111\u001b[0m\u001b[1;33m)\u001b[0m \u001b[1;33m<\u001b[0m \u001b[1;36m1e-4\u001b[0m\u001b[1;33m\u001b[0m\u001b[1;33m\u001b[0m\u001b[0m\n\u001b[0m\u001b[0;32m      9\u001b[0m \u001b[1;33m\u001b[0m\u001b[0m\n\u001b[0;32m     10\u001b[0m \u001b[1;32massert\u001b[0m \u001b[0mSphere\u001b[0m\u001b[1;33m(\u001b[0m\u001b[1;36m0.5\u001b[0m\u001b[1;33m)\u001b[0m\u001b[1;33m.\u001b[0m\u001b[0mradius\u001b[0m \u001b[1;33m==\u001b[0m \u001b[1;36m1\u001b[0m\u001b[1;33m\u001b[0m\u001b[1;33m\u001b[0m\u001b[0m\n",
      "\u001b[1;31mAssertionError\u001b[0m: "
     ]
    }
   ],
   "source": [
    "my_sphere = Sphere(3)  # creates a specific sphere with radius=3\n",
    "\n",
    "# creates a much larger sphere; these are two separate \"instances\"\n",
    "# of Sphere objects\n",
    "my_other_sphere = Sphere(27)  \n",
    "\n",
    "assert abs(my_sphere.volume() - 339.292006) < 1e-4  # since comparing floating point numbers, avoid checking exact equality\n",
    "assert abs(my_sphere.surface_area() - 37.699111) < 1e-4\n",
    "\n",
    "assert Sphere(0.5).radius == 1\n"
   ]
  },
  {
   "cell_type": "code",
   "execution_count": 10,
   "metadata": {},
   "outputs": [
    {
     "data": {
      "text/plain": [
       "0.5"
      ]
     },
     "execution_count": 10,
     "metadata": {},
     "output_type": "execute_result"
    }
   ],
   "source": [
    "my_sphere.volume()\n",
    "my_sphere.surface_area()\n",
    "Sphere(0.5).radius"
   ]
  },
  {
   "cell_type": "markdown",
   "metadata": {},
   "source": [
    "<a id='random'></a>\n",
    "## Pseudo-random numbers: `random`\n",
    "\n",
    "You should know all about pseudo-random numbers and variates from OPER 561 Discrete-Event Simulation. Using randomization in Python is similar to Simio."
   ]
  },
  {
   "cell_type": "code",
   "execution_count": 6,
   "metadata": {},
   "outputs": [
    {
     "name": "stdout",
     "output_type": "stream",
     "text": [
      "['fish', 'cat', 'dog']\n"
     ]
    },
    {
     "data": {
      "text/plain": [
       "7"
      ]
     },
     "execution_count": 6,
     "metadata": {},
     "output_type": "execute_result"
    }
   ],
   "source": [
    "import random\n",
    "\n",
    "# a random float from 0 to 1 (excluding 1)\n",
    "random.random()\n",
    "\n",
    "pets = [\"cat\", \"dog\", \"fish\"]\n",
    "\n",
    "# a random element from a sequence\n",
    "random.choice(pets)\n",
    "\n",
    "# shuffle a list (in place--`pets` gets changed)\n",
    "random.shuffle(pets)\n",
    "\n",
    "# note its possible `pets` will get shuffled into the original \n",
    "# order, so run this cell again if that happens\n",
    "print(pets)\n",
    "\n",
    "# a random integer from 1 to 10 (inclusive--unusual for Python)\n",
    "random.randint(1, 10)"
   ]
  },
  {
   "cell_type": "markdown",
   "metadata": {},
   "source": [
    "You can use the `dir` function on `random` to see your other options for random number generation.\n",
    "\n",
    "When we load the `random` module, we can seed it before we start generating values. We can think of this as picking a place in the pseudo-random sequence where we want to start. We normally want to start in a different place every time – by default, the module is seeded with a value taken from the system clock. If we want to reproduce the same random sequence multiple times – for example, inside a unit test – we need to pass the same integer or string as parameter to `seed` each time:"
   ]
  },
  {
   "cell_type": "code",
   "execution_count": 7,
   "metadata": {},
   "outputs": [
    {
     "name": "stdout",
     "output_type": "stream",
     "text": [
      "0.23796462709189137\n",
      "0.5442292252959519\n",
      "0.36995516654807925\n"
     ]
    }
   ],
   "source": [
    "# set a predictable seed\n",
    "random.seed(3)\n",
    "print(random.random())\n",
    "print(random.random())\n",
    "print(random.random())"
   ]
  },
  {
   "cell_type": "code",
   "execution_count": 8,
   "metadata": {},
   "outputs": [
    {
     "name": "stdout",
     "output_type": "stream",
     "text": [
      "0.23796462709189137\n",
      "0.5442292252959519\n",
      "0.36995516654807925\n"
     ]
    }
   ],
   "source": [
    "# now try it again\n",
    "random.seed(3)\n",
    "print(random.random())\n",
    "print(random.random())\n",
    "print(random.random())"
   ]
  },
  {
   "cell_type": "code",
   "execution_count": 9,
   "metadata": {},
   "outputs": [
    {
     "name": "stdout",
     "output_type": "stream",
     "text": [
      "0.5957576038090177\n",
      "0.4635135210895731\n",
      "0.8749953767500402\n"
     ]
    }
   ],
   "source": [
    "# and now try a different seed\n",
    "random.seed(\"something completely different\")\n",
    "print(random.random())\n",
    "print(random.random())\n",
    "print(random.random())"
   ]
  },
  {
   "cell_type": "markdown",
   "metadata": {},
   "source": [
    "Note that the seed is not exactly the same thing as the random number streams you worked with in Simio. Python's `random` module doesn't really support streams by default, but you can improvise or use a different module for randomness; if you work requires this level of control, ask for more information.\n",
    "\n",
    "Also, once we learn about NumPy, we'll tend to favor its own random number capabilities instead of the built-in `random` module. But `random` is swell for simple programs."
   ]
  },
  {
   "cell_type": "markdown",
   "metadata": {},
   "source": [
    "## <font color=\"blue\">Exercise 3</font>\n",
    "\n",
    "Write a program which randomly picks an integer from 1 to 100. Your program should prompt the user for guesses – if the user guesses incorrectly, it should print whether the guess is too high or too low. If the user guesses correctly, the program should print how many guesses the user took to guess the right answer. You can assume that the user will enter valid input.\n",
    "\n",
    "We can use the `input()` function to get user input; run `help(input)` for details. This function works at both the command line and in notebooks. Here's some scaffolding."
   ]
  },
  {
   "cell_type": "code",
   "execution_count": 27,
   "metadata": {
    "deletable": false,
    "nbgrader": {
     "cell_type": "code",
     "checksum": "a26eabb7decba8600c769da5f588d74c",
     "grade": false,
     "grade_id": "secret_number",
     "locked": false,
     "schema_version": 3,
     "solution": true,
     "task": false
    }
   },
   "outputs": [
    {
     "name": "stdout",
     "output_type": "stream",
     "text": [
      "Guess a number from 1 to 100: 7\n",
      "Too low!\n",
      "Guess a number from 1 to 100: 10\n",
      "Too low!\n",
      "Guess a number from 1 to 100: 50\n",
      "Too low!\n",
      "Guess a number from 1 to 100: 75\n",
      "Too low!\n",
      "Guess a number from 1 to 100: 87\n",
      "Too high!\n",
      "Guess a number from 1 to 100: 80\n",
      "Too low!\n",
      "Guess a number from 1 to 100: 84\n",
      "Too low!\n",
      "Guess a number from 1 to 100: 85\n",
      "That's Correct!\n"
     ]
    }
   ],
   "source": [
    "import random\n",
    "import math\n",
    "random.seed()\n",
    "\n",
    "secret_number = random.randint(1,100)\n",
    "guess = None  # this initializes the guess from the user\n",
    "\n",
    "# YOUR CODE HERE\n",
    "\n",
    "while guess != secret_number:\n",
    "    # input() shows a message box/command prompt for user input and returns\n",
    "    # whatever they type before hitting enter. It will always return a string.\n",
    "    guess = int(input(\"Guess a number from 1 to 100: \"))\n",
    "    \n",
    "    \n",
    "    \n",
    "    if guess == secret_number:\n",
    "    \n",
    "        print(\"That's Correct!\")\n",
    "        \n",
    "        # we could rewrite this loop to make the `break` completely unneccessary...\n",
    "        # once you solve this using `break`, why not give that a try?\n",
    "        break  \n",
    "\n",
    "    if guess < secret_number:\n",
    "        print(\"Too low!\")\n",
    "    else:\n",
    "        print(\"Too high!\")"
   ]
  },
  {
   "cell_type": "code",
   "execution_count": 19,
   "metadata": {
    "deletable": false,
    "editable": false,
    "nbgrader": {
     "cell_type": "code",
     "checksum": "9df1dff6f52a83e41ada8ff14b0a2bb3",
     "grade": true,
     "grade_id": "cell-f2959111e1536568",
     "locked": true,
     "points": 2,
     "schema_version": 3,
     "solution": false,
     "task": false
    }
   },
   "outputs": [],
   "source": [
    "# There are no automated tests for this one. We're on our own."
   ]
  },
  {
   "cell_type": "markdown",
   "metadata": {},
   "source": [
    "<a id='re'></a>\n",
    "## Matching string patterns: `re`\n",
    "\n",
    "The `re` module allows us to write regular expressions. Regular expressions are a mini-language for matching strings, and can be used to find and possibly replace text. If you learn how to use regular expressions in Python, you will find that they are quite similar to use in other languages. (Regular expressions exist separately from Python. You can even use some for sophisticated find-replace in Word!)\n",
    "\n",
    "The full range of capabilities of regular expressions is quite extensive, and they are often criticised for their potential complexity, but with the knowledge of only a few basic concepts we can perform some very powerful string manipulation easily.\n",
    "\n",
    "> Regular expressions are good for use on plain text, but a bad fit for parsing more structured text formats like XML – you should always use a more specialised parsing library for those.\n",
    "\n",
    "The Python documentation for the `re` module not only explains how to use the module, but also contains a reference for the complete regular expression syntax which Python supports.\n",
    "\n",
    "### A regular expression primer\n",
    "\n",
    "A regular expression is a string which describes a pattern. This pattern is compared to other strings, which may or may not match it. A regular expression can contain normal characters (which are treated literally as specific letters, numbers or other symbols) as well as special symbols which have different meanings within the expression.\n",
    "\n",
    "Because many special symbols use the backslash (`\\`) character, we often use raw strings to represent regular expressions in Python. This eliminates the need to use extra backslashes to escape backslashes, which would make complicated regular expressions much more difficult to read. If a regular expression doesn’t contain any backslashes, it doesn’t matter whether we use a raw string or a normal string.\n",
    "\n",
    "Here are some very simple examples:"
   ]
  },
  {
   "cell_type": "code",
   "execution_count": 28,
   "metadata": {},
   "outputs": [
    {
     "data": {
      "text/plain": [
       "'cat|dog'"
      ]
     },
     "execution_count": 28,
     "metadata": {},
     "output_type": "execute_result"
    }
   ],
   "source": [
    "# this regular expression contains no special symbols\n",
    "# it won't match anything except 'cat'\n",
    "\"cat\"\n",
    "\n",
    "# a . stands for any single character (except the newline, by default)\n",
    "# this will match 'cat', 'cbt', 'c3t', 'c!t' ...\n",
    "\"c.t\"\n",
    "\n",
    "# a * repeats the previous character 0 or more times\n",
    "# it can be used after a normal character, or a special symbol like .\n",
    "# this will match 'ct', 'cat', 'caat', 'caaaaaaaaat' ...\n",
    "\"ca*t\"\n",
    "# this will match 'sc', 'sac', 'sic', 'supercalifragilistic' ...\n",
    "\"s.*c\"\n",
    "\n",
    "# + is like *, but the character must occur at least once\n",
    "# there must be at least one 'a'\n",
    "\"ca+t\"\n",
    "\n",
    "# more generally, we can use curly brackets {} to specify any number of repeats\n",
    "# or a minimum and maximum\n",
    "# this will match any five-letter word which starts with 'c' and ends with 't'\n",
    "\"c.{3}t\"\n",
    "# this will match any five-, six-, or seven-letter word ...\n",
    "\"c.{3,5}t\"\n",
    "\n",
    "# One of the uses for ? is matching the previous character zero or one times\n",
    "# this will match 'http' or 'https'\n",
    "\"https?\"\n",
    "\n",
    "# square brackets [] define a set of allowed values for a character\n",
    "# they can contain normal characters, or ranges\n",
    "# if ^ is the first character in the brackets, it *negates* the contents\n",
    "# the character between 'c' and 't' must be a vowel\n",
    "\"c[aeiou]t\"\n",
    "# this matches any character that *isn't* a vowel, three times\n",
    "\"[^aeiou]{3}\"\n",
    "# This matches an uppercase UCT student number\n",
    "\"[B-DF-HJ-NP-TV-Z]{3}[A-Z]{3}[0-9]{3}\"\n",
    "\n",
    "# we use \\ to escape any special regular expression character\n",
    "# this would match 'c*t'\n",
    "r\"c\\*t\"\n",
    "# note that we have used a raw string, so that we can write a literal backslash\n",
    "\n",
    "# there are also some shorthand symbols for certain allowed subsets of characters:\n",
    "# \\d matches any digit\n",
    "# \\s matches any whitespace character, like space, tab or newline\n",
    "# \\w matches alphanumeric characters -- letters, digits or the underscore\n",
    "# \\D, \\S and \\W are the opposites of \\d, \\s and \\w\n",
    "\n",
    "# we can use round brackets () to *capture* portions of the pattern\n",
    "# this is useful if we want to search and replace\n",
    "# we can retrieve the contents of the capture in the replace step\n",
    "# this will capture whatever would be matched by .*\n",
    "\"c(.*)t\"\n",
    "\n",
    "# ^ and $ denote the beginning or end of a string\n",
    "# this will match a string which starts with 'c' and ends in 't'\n",
    "\"^c.*t$\"\n",
    "\n",
    "# | means \"or\" -- it lets us choose between multiple options.\n",
    "\"cat|dog\""
   ]
  },
  {
   "cell_type": "markdown",
   "metadata": {},
   "source": [
    "### Using the `re` module\n",
    "\n",
    "Now that we have seen how to construct regular expression strings, we can start using them. The `re` module provides us with several functions which allow us to use regular expressions in different ways:\n",
    "\n",
    "* `search` searches for the regular expression inside a string – the regular expression will match if any subset of the string matches.\n",
    "* `match` matches a regular expression against the entire string – the regular expression will only match if the whole string matches. `re.match('something', some_string)` is equivalent to `re.search('^something$', some_string)`.\n",
    "    * In regular expression language, `^` means the start of a string and `$` means the end.\n",
    "* `sub` searches for the regular expression and replaces it with the provided replacement expression.\n",
    "* `findall` searches for all matches of the regular expression within the string.\n",
    "* `split` splits a string using any regular expression as a delimiter.\n",
    "\n",
    "As you can see, this module provides more powerful versions of some simple string operations: for example, we can also split a string or replace a substring using the built-in `split` and `replace` methods – but we can only use them with fixed delimiters or search patterns and replacements. With `re.sub` and `re.split` we can specify variable patterns instead of fixed strings.\n",
    "\n",
    "All of the functions take a regular expression as the first parameter. `match`, `search`, `findall`, and `split` also take the string to be searched as the second parameter – but in the `sub` function this is the third parameter, the second being the replacement string. All the functions also take an keyword parameter which specifies optional flags, which we will discuss shortly.\n",
    "\n",
    "`match` and `search` both return match objects which store information such as the contents of captured groups. `sub` returns a modified copy of the original string. `findall` and `split` return a list of strings.\n",
    "\n",
    "Here are some usage examples:"
   ]
  },
  {
   "cell_type": "code",
   "execution_count": 29,
   "metadata": {},
   "outputs": [
    {
     "name": "stdout",
     "output_type": "stream",
     "text": [
      "1 <re.Match object; span=(0, 6), match='cravat'>\n",
      "2 None\n",
      "3 <re.Match object; span=(9, 15), match='cravat'>\n"
     ]
    }
   ],
   "source": [
    "import re\n",
    "\n",
    "# match and search are quite similar\n",
    "print(1, re.match(\"c.*t\", \"cravat\")) # this will match\n",
    "print(2, re.match(\"c.*t\", \"I have a cravat\")) # this won't\n",
    "print(3, re.search(\"c.*t\", \"I have a cravat\")) # this will"
   ]
  },
  {
   "cell_type": "code",
   "execution_count": 30,
   "metadata": {},
   "outputs": [
    {
     "name": "stdout",
     "output_type": "stream",
     "text": [
      "Mary had a little squirrel.\n",
      "MAN BITES DOG\n"
     ]
    }
   ],
   "source": [
    "# We can use a static string as a replacement...\n",
    "print(re.sub(\"lamb\", \"squirrel\", \"Mary had a little lamb.\"))\n",
    "\n",
    "# Or we can capture groups, and substitute their contents back in.\n",
    "print(re.sub(\"(.*) (BITES) (.*)\", r\"\\3 \\2 \\1\", \"DOG BITES MAN\"))"
   ]
  },
  {
   "cell_type": "code",
   "execution_count": 31,
   "metadata": {},
   "outputs": [
    {
     "name": "stdout",
     "output_type": "stream",
     "text": [
      "bbbbbbbbbb\n",
      "baaaaaaaaa\n"
     ]
    }
   ],
   "source": [
    "# count is a keyword parameter which we can use to limit replacements\n",
    "print(re.sub(\"a\", \"b\", \"aaaaaaaaaa\"))\n",
    "print(re.sub(\"a\", \"b\", \"aaaaaaaaaa\", count=1))"
   ]
  },
  {
   "cell_type": "code",
   "execution_count": 32,
   "metadata": {},
   "outputs": [
    {
     "name": "stdout",
     "output_type": "stream",
     "text": [
      "('DOG', 'BITES', 'MAN')\n",
      "DOG\n"
     ]
    }
   ],
   "source": [
    "# Here's a closer look at a match object.\n",
    "my_match = re.match(\"(.*) (BITES) (.*)\", \"DOG BITES MAN\")\n",
    "print(my_match.groups())\n",
    "print(my_match.group(1))"
   ]
  },
  {
   "cell_type": "code",
   "execution_count": 33,
   "metadata": {},
   "outputs": [
    {
     "name": "stdout",
     "output_type": "stream",
     "text": [
      "DOG BITES MAN\n"
     ]
    }
   ],
   "source": [
    "# note that the first match in the group is 1, not 0...\n",
    "# this is because group(0) returns the entire match:\n",
    "print(my_match.group(0))"
   ]
  },
  {
   "cell_type": "code",
   "execution_count": 34,
   "metadata": {},
   "outputs": [
    {
     "name": "stdout",
     "output_type": "stream",
     "text": [
      "DOG\n",
      "{'subject': 'DOG', 'verb': 'BITES', 'object': 'MAN'}\n",
      "DOG\n"
     ]
    }
   ],
   "source": [
    "# We can name groups.\n",
    "my_match = re.match(\"(?P<subject>.*) (?P<verb>BITES) (?P<object>.*)\", \"DOG BITES MAN\")\n",
    "print(my_match.group(\"subject\"))\n",
    "print(my_match.groupdict())\n",
    "\n",
    "# We can still access named groups by their positions.\n",
    "print(my_match.group(1))"
   ]
  },
  {
   "cell_type": "code",
   "execution_count": 35,
   "metadata": {},
   "outputs": [
    {
     "name": "stdout",
     "output_type": "stream",
     "text": [
      "['<bob@example.com>,', '<jane.doe@example.com>']\n",
      "['one', 'two', 'three', 'four']\n"
     ]
    }
   ],
   "source": [
    "# Sometimes we want to find all the matches in a string.\n",
    "print(re.findall(\"[^ ]+@[^ ]+\", \"Bob <bob@example.com>, Jane <jane.doe@example.com>\"))\n",
    "\n",
    "# Sometimes we want to split a string.\n",
    "print(re.split(\", *\", \"one,two,  three, four\"))"
   ]
  },
  {
   "cell_type": "markdown",
   "metadata": {},
   "source": [
    "### Greed\n",
    "\n",
    "Regular expressions are greedy by default – this means that if a part of a regular expression can match a variable number of characters, it will always try to match as many characters as possible. That means that we sometimes need to take special care to make sure that a regular expression doesn’t match too much. For example:"
   ]
  },
  {
   "cell_type": "code",
   "execution_count": 36,
   "metadata": {},
   "outputs": [
    {
     "name": "stdout",
     "output_type": "stream",
     "text": [
      "['\"one\" \"two\" \"three\" \"four\"']\n",
      "['\"one\"', '\"two\"', '\"three\"', '\"four\"']\n",
      "['\"one\"', '\"two\"', '\"three\"', '\"four\"']\n"
     ]
    }
   ],
   "source": [
    "# this is going to match everything between the first and last double quote \"\n",
    "# (i.e., the whole string)\n",
    "# but that's not what we want!\n",
    "print(re.findall('\".*\"', '\"one\" \"two\" \"three\" \"four\"'))\n",
    "\n",
    "# This is a common trick\n",
    "print(re.findall('\"[^\"]*\"', '\"one\" \"two\" \"three\" \"four\"'))\n",
    "\n",
    "# We can also use ? after * or other expressions to make them *not greedy*\n",
    "print(re.findall('\".*?\"', '\"one\" \"two\" \"three\" \"four\"'))"
   ]
  },
  {
   "cell_type": "markdown",
   "metadata": {},
   "source": [
    "**Matching other special chararacters:**\n",
    "\n",
    "You often need to \"escape\" special characters (most non-alphanumeric characters, but especially parens and brackets) by preceeding them with a backslash:"
   ]
  },
  {
   "cell_type": "code",
   "execution_count": 37,
   "metadata": {},
   "outputs": [
    {
     "name": "stdout",
     "output_type": "stream",
     "text": [
      "<re.Match object; span=(7, 9), match='hi'>\n",
      "<re.Match object; span=(6, 10), match='(hi)'>\n",
      "<re.Match object; span=(7, 9), match='hi'>\n"
     ]
    }
   ],
   "source": [
    "my_string = \"Hello (hi).\"\n",
    "print(re.search(\"(hi)\", my_string))  # while this finds 'hi', it misses the parens\n",
    "print(re.search(\"\\(hi\\)\", my_string)) # this gets the parens\n",
    "print(re.search(r\"(hi)\", my_string))  # this doesn't and I'm not sure why"
   ]
  },
  {
   "cell_type": "markdown",
   "metadata": {},
   "source": [
    "## <font color=\"blue\">Exercise 4</font>\n",
    "\n",
    "*Flipside ver. 2* - Write a function which takes a string which contains two words separated by any non-zero amount and type of whitespace---assume spaces & tabs--and returns a string in which the words are swapped around and the whitespace is preserved. Use the `re` module. The character class `[\\t ]` is a good way to match whitespace (`\\t` is the tab character)."
   ]
  },
  {
   "cell_type": "code",
   "execution_count": null,
   "metadata": {
    "deletable": false,
    "nbgrader": {
     "cell_type": "code",
     "checksum": "0e70981ed8e0187d8a4abea5748bc130",
     "grade": false,
     "grade_id": "flipside2",
     "locked": false,
     "schema_version": 3,
     "solution": true,
     "task": false
    }
   },
   "outputs": [],
   "source": [
    "import re\n",
    "def flipside2(s):\n",
    "    \"\"\"...\n",
    "    \n",
    "    \"\"\"\n",
    "    re"
   ]
  },
  {
   "cell_type": "code",
   "execution_count": null,
   "metadata": {
    "deletable": false,
    "editable": false,
    "nbgrader": {
     "cell_type": "code",
     "checksum": "c80376638df0810f6e51e4e4e7e2056a",
     "grade": true,
     "grade_id": "flipside2_tests",
     "locked": true,
     "points": 2,
     "schema_version": 3,
     "solution": false,
     "task": false
    }
   },
   "outputs": [],
   "source": [
    "assert flipside2('nice code') == 'code nice'\n",
    "assert flipside2('Air      Power') == 'Power      Air'\n",
    "assert flipside2('hidden  \t  tab') == 'tab  \t  hidden'"
   ]
  },
  {
   "cell_type": "markdown",
   "metadata": {},
   "source": [
    "<a id='csv'></a>\n",
    "## Parsing CSV files: `csv`\n",
    "\n",
    "CSV stands for *comma-separated values* – it’s a very simple file format for storing tabular data. Most spreadsheets can easily be converted to and from CSV format.\n",
    "\n",
    "In a typical CSV file, each line represents a row of values in the table, with the columns separated by commas. Field values are often enclosed in double quotes, so that any literal commas or newlines inside them can be escaped:"
   ]
  },
  {
   "cell_type": "code",
   "execution_count": 12,
   "metadata": {},
   "outputs": [
    {
     "data": {
      "text/plain": [
       "('four, five', 'six', 'seven')"
      ]
     },
     "execution_count": 12,
     "metadata": {},
     "output_type": "execute_result"
    }
   ],
   "source": [
    "\"one\",\"two\",\"three\"\n",
    "\"four, five\",\"six\",\"seven\""
   ]
  },
  {
   "cell_type": "markdown",
   "metadata": {},
   "source": [
    "Python’s `csv` module takes care of all this in the background, and allows us to manipulate the data in a CSV file in a simple way, using the `reader` and `writer` classes:"
   ]
  },
  {
   "cell_type": "code",
   "execution_count": 13,
   "metadata": {},
   "outputs": [
    {
     "name": "stdout",
     "output_type": "stream",
     "text": [
      "done writing\n",
      "['Fluffy', 'cat']\n",
      "['Max', 'dog']\n"
     ]
    }
   ],
   "source": [
    "import csv\n",
    "\n",
    "# this will create pets.csv in the current directory\n",
    "with open('pets.csv', 'w', newline='') as f:\n",
    "    pets_writer = csv.writer(f)\n",
    "    pets_writer.writerow(['Fluffy', 'cat'])\n",
    "    pets_writer.writerow(['Max', 'dog'])\n",
    "\n",
    "print('done writing')\n",
    "\n",
    "with open(\"pets.csv\") as f:\n",
    "    pets_reader = csv.reader(f)\n",
    "    for row in pets_reader:\n",
    "        print(row)"
   ]
  },
  {
   "cell_type": "markdown",
   "metadata": {},
   "source": [
    "(A note on the `newline=''` argument: Windows and non-Windows operating systems handle line endings a little differently. Without the `newline=''` parameter, you'll often get extra blank lines appearing in the output. Try removing that parameter and re-running. For more details, you can read [this](https://docs.python.org/3.6/library/csv.html#id3).)\n",
    "\n",
    "There is no single CSV standard – the comma may be replaced with a different delimiter (such as a tab or a pipe), and a different quote character may be used. Both of these can be specified as optional keyword parameters to `reader`."
   ]
  },
  {
   "cell_type": "markdown",
   "metadata": {},
   "source": [
    "## <font color=\"blue\">Exercise 5</font>\n",
    "\n",
    "Open a CSV file which contains three columns of integers; you'll need to create one for your testing, but don't upload it as part of your assignment. \n",
    "\n",
    "Write out the data to a *new* CSV file, swapping around the second and third columns and adding a fourth column which contains the numerical sum of the first three. (So if your numbers get read in as strings, you'll need to convert them to integers.)\n",
    "\n",
    "Create a `list` of (row number, row sum) tuples; row sum is what you wrote to the 4th column of the CSV file. Consider using a [list comprehension](https://www.pythonlikeyoumeanit.com/Module2_EssentialsOfPython/Generators_and_Comprehensions.html#The-range-generator) and/or the [zip function](https://www.pythonlikeyoumeanit.com/Module2_EssentialsOfPython/Itertools.html#Python%E2%80%99s-%E2%80%9CItertools%E2%80%9D)."
   ]
  },
  {
   "cell_type": "code",
   "execution_count": 14,
   "metadata": {
    "deletable": false,
    "nbgrader": {
     "cell_type": "code",
     "checksum": "373922c5d577bc601865a4c83da81c78",
     "grade": false,
     "grade_id": "edit_csv",
     "locked": false,
     "schema_version": 3,
     "solution": true,
     "task": false
    }
   },
   "outputs": [],
   "source": [
    "import csv\n",
    "import pandas as pd\n",
    "\n",
    "def edit_csv(input_filename, output_filename):\n",
    "    \"\"\"\n",
    "    \n",
    "    \"\"\"    \n",
    "        df = pd.Dataframe\n",
    "            \n",
    "                \n",
    "        \n",
    "        "
   ]
  },
  {
   "cell_type": "code",
   "execution_count": 40,
   "metadata": {},
   "outputs": [
    {
     "name": "stdout",
     "output_type": "stream",
     "text": [
      "    col1  col2  col3\n",
      "0     42    68     4\n",
      "1     49    22    75\n",
      "2     65    95    82\n",
      "3     96    62    82\n",
      "4     93    92    52\n",
      "5     80    88    11\n",
      "6     80    60    87\n",
      "7     65    99    31\n",
      "8     39    55    11\n",
      "9     51    32    20\n",
      "10    98    88    49\n",
      "11    33    16    61\n",
      "12    84    94    40\n",
      "13    37    13    87\n",
      "14    48    33    45\n",
      "15    10    91    20\n",
      "16    89    66    54\n",
      "17    52    68     2\n",
      "18    21    94    86\n",
      "19    51    53    14\n",
      "20    96    72    19\n",
      "21    30    11    58\n",
      "22    70    76    10\n",
      "23    37    33    82\n",
      "24    81    34    19\n",
      "25    47    31    58\n",
      "26    95     4    52\n",
      "27    24    99    85\n",
      "28   100    17    29\n",
      "29    20     8    23\n",
      "30    54    10    33\n",
      "31    75    41    32\n",
      "32    15    42    33\n",
      "33     9    22    48\n",
      "34    40     5    52\n",
      "35    28    30    33\n",
      "36    33    26    64\n",
      "37    65    47    80\n",
      "38    98    76    64\n",
      "39    60    97     2\n",
      "    col1  col3  col2\n",
      "0     42     4    68\n",
      "1     49    75    22\n",
      "2     65    82    95\n",
      "3     96    82    62\n",
      "4     93    52    92\n",
      "5     80    11    88\n",
      "6     80    87    60\n",
      "7     65    31    99\n",
      "8     39    11    55\n",
      "9     51    20    32\n",
      "10    98    49    88\n",
      "11    33    61    16\n",
      "12    84    40    94\n",
      "13    37    87    13\n",
      "14    48    45    33\n",
      "15    10    20    91\n",
      "16    89    54    66\n",
      "17    52     2    68\n",
      "18    21    86    94\n",
      "19    51    14    53\n",
      "20    96    19    72\n",
      "21    30    58    11\n",
      "22    70    10    76\n",
      "23    37    82    33\n",
      "24    81    19    34\n",
      "25    47    58    31\n",
      "26    95    52     4\n",
      "27    24    85    99\n",
      "28   100    29    17\n",
      "29    20    23     8\n",
      "30    54    33    10\n",
      "31    75    32    41\n",
      "32    15    33    42\n",
      "33     9    48    22\n",
      "34    40    52     5\n",
      "35    28    33    30\n",
      "36    33    64    26\n",
      "37    65    80    47\n",
      "38    98    64    76\n",
      "39    60     2    97\n",
      "    col1  col3  col2  Row Sum\n",
      "0     42     4    68      114\n",
      "1     49    75    22      146\n",
      "2     65    82    95      242\n",
      "3     96    82    62      240\n",
      "4     93    52    92      237\n",
      "5     80    11    88      179\n",
      "6     80    87    60      227\n",
      "7     65    31    99      195\n",
      "8     39    11    55      105\n",
      "9     51    20    32      103\n",
      "10    98    49    88      235\n",
      "11    33    61    16      110\n",
      "12    84    40    94      218\n",
      "13    37    87    13      137\n",
      "14    48    45    33      126\n",
      "15    10    20    91      121\n",
      "16    89    54    66      209\n",
      "17    52     2    68      122\n",
      "18    21    86    94      201\n",
      "19    51    14    53      118\n",
      "20    96    19    72      187\n",
      "21    30    58    11       99\n",
      "22    70    10    76      156\n",
      "23    37    82    33      152\n",
      "24    81    19    34      134\n",
      "25    47    58    31      136\n",
      "26    95    52     4      151\n",
      "27    24    85    99      208\n",
      "28   100    29    17      146\n",
      "29    20    23     8       51\n",
      "30    54    33    10       97\n",
      "31    75    32    41      148\n",
      "32    15    33    42       90\n",
      "33     9    48    22       79\n",
      "34    40    52     5       97\n",
      "35    28    33    30       91\n",
      "36    33    64    26      123\n",
      "37    65    80    47      192\n",
      "38    98    64    76      238\n",
      "39    60     2    97      159\n"
     ]
    }
   ],
   "source": [
    "import pandas as pd\n",
    "import numpy as np\n",
    "df = pd.read_csv(\"Book1.csv\", \n",
    "                  names=[\"col1\", \"col2\", \"col3\"])\n",
    "print(df)\n",
    "df = df[['col1','col3','col2']]\n",
    "print(df)\n",
    "df['Row Sum'] = df.apply(np.sum, axis=1)\n",
    "print(df)\n",
    "\n",
    "df['index1'] = df.index\n",
    "\n",
    "new_list\n",
    "#new_list = list(index, df['Row Sum'])\n",
    "\n",
    "#df = df.to_csv('Book2.csv')\n",
    "\n"
   ]
  },
  {
   "cell_type": "code",
   "execution_count": null,
   "metadata": {
    "deletable": false,
    "editable": false,
    "nbgrader": {
     "cell_type": "code",
     "checksum": "0ca45d28ee8b23eb30e02b9b2080f0f5",
     "grade": true,
     "grade_id": "edit_csv_tests",
     "locked": true,
     "points": 2,
     "schema_version": 3,
     "solution": false,
     "task": false
    }
   },
   "outputs": [],
   "source": [
    "#\n",
    "# create an input file for testing\n",
    "#\n",
    "with open('_testinput.csv', 'w', newline='') as f:\n",
    "    f.write(\"\"\"1,2,3\n",
    "4,5,6\"\"\")  # using \"\"\" lets a string be spread across multiple lines and include newline characters\n",
    "\n",
    "#\n",
    "# test the function by manually working with csv data\n",
    "#\n",
    "edit_csv('_testinput.csv', '_testoutput.csv')\n",
    "\n",
    "with open('_testoutput.csv', 'r') as f:\n",
    "    res = f.readlines()\n",
    "    \n",
    "# readlines returns a list, which I want to join into one string; \n",
    "# strip removes extra whitespace\n",
    "res = ''.join(res).strip()\n",
    "    \n",
    "desired_output = \"\"\"1,3,2,6\n",
    "4,6,5,15\"\"\"\n",
    "\n",
    "assert res == desired_output\n",
    "\n",
    "#\n",
    "# cleanup after testing\n",
    "#\n",
    "import os\n",
    "try:\n",
    "    os.remove('_testinput.csv')\n",
    "except:\n",
    "    pass  # if we can't remove it, oh well\n",
    "try:\n",
    "    os.remove('_testoutput.csv')\n",
    "except:\n",
    "    pass"
   ]
  },
  {
   "cell_type": "markdown",
   "metadata": {},
   "source": [
    "<a id='questions'></a>\n",
    "# Questions\n",
    "\n",
    "1) Briefly define the decision-making phases of intelligence, design, choice, and implementation."
   ]
  },
  {
   "cell_type": "markdown",
   "metadata": {
    "deletable": false,
    "nbgrader": {
     "cell_type": "markdown",
     "checksum": "45c31ad7ee3aff430f3a4b83ed612dd4",
     "grade": true,
     "grade_id": "question1",
     "locked": false,
     "points": 2,
     "schema_version": 3,
     "solution": true,
     "task": false
    }
   },
   "source": []
  },
  {
   "cell_type": "markdown",
   "metadata": {},
   "source": [
    "2) There is a trade-off between model accuracy and cost. Come up with an example of this for some real-world context."
   ]
  },
  {
   "cell_type": "markdown",
   "metadata": {
    "deletable": false,
    "nbgrader": {
     "cell_type": "markdown",
     "checksum": "fa556c98b465d5a47c027019a4d091a3",
     "grade": true,
     "grade_id": "question2",
     "locked": false,
     "points": 2,
     "schema_version": 3,
     "solution": true,
     "task": false
    }
   },
   "source": [
    "YOUR ANSWER HERE"
   ]
  },
  {
   "cell_type": "markdown",
   "metadata": {},
   "source": [
    "3) In Turban Fig. 2.1, a diagram of the system & its environment, I've highlighted \"Decision maker\". What do you think is their impact on designing a DSS? How might designing a DSS differ from writing programs for your own problem solving?"
   ]
  },
  {
   "cell_type": "markdown",
   "metadata": {
    "deletable": false,
    "nbgrader": {
     "cell_type": "markdown",
     "checksum": "b9301d7544041eb4fd97870738064fab",
     "grade": true,
     "grade_id": "question3",
     "locked": false,
     "points": 2,
     "schema_version": 3,
     "solution": true,
     "task": false
    }
   },
   "source": [
    "YOUR ANSWER HERE"
   ]
  },
  {
   "cell_type": "markdown",
   "metadata": {},
   "source": [
    "4) We tend to overemphasize decision support in the Choice Phase, because it leads to choosing a solution. But the Turban reading discusses the other phases, too. Briefly describe a decision context (of your own design or from elsewhere) where support in the Intelligence Phase could be useful. And also for the Design Phase."
   ]
  },
  {
   "cell_type": "markdown",
   "metadata": {
    "deletable": false,
    "nbgrader": {
     "cell_type": "markdown",
     "checksum": "d153387004619b60de4d2c4202be8794",
     "grade": true,
     "grade_id": "question4",
     "locked": false,
     "points": 2,
     "schema_version": 3,
     "solution": true,
     "task": false
    }
   },
   "source": [
    "YOUR ANSWER HERE"
   ]
  },
  {
   "cell_type": "markdown",
   "metadata": {},
   "source": [
    "5) In the csv example, we saw\n",
    "\n",
    "`with open(\"pets.csv\") as f:\n",
    "    pets_reader = csv.reader(f)`\n",
    "\n",
    "This is an example of managing a resource (here, a file) using a [context manager](https://book.pythontips.com/en/latest/context_managers.html). According to that reference, what's the most important benefit of using a context manager for working with a file? What would be a functionally equivalent, but worse, way of using pets.csv?"
   ]
  },
  {
   "cell_type": "markdown",
   "metadata": {
    "deletable": false,
    "nbgrader": {
     "cell_type": "markdown",
     "checksum": "ae1029c7f1ab6ab9929881be4b5f5975",
     "grade": true,
     "grade_id": "question5",
     "locked": false,
     "points": 2,
     "schema_version": 3,
     "solution": true,
     "task": false
    }
   },
   "source": [
    "YOUR ANSWER HERE"
   ]
  },
  {
   "cell_type": "code",
   "execution_count": null,
   "metadata": {},
   "outputs": [],
   "source": [
    "# code answer if you need it"
   ]
  },
  {
   "cell_type": "markdown",
   "metadata": {},
   "source": [
    "# Completion\n",
    "\n",
    "You should save and submit this notebook file to Canvas under the [Lab 2 Assignment](https://lms.au.af.edu/courses/24019/assignments/202806) prior to leaving class.\n",
    "\n",
    "Assessment:\n",
    "\n",
    "* (10 pts) Each of the five exercises should:\n",
    "    * have an appropriate docstring\n",
    "    * have been tested at least once\n",
    "    * run without error for expected inputs\n",
    "    * produce correct output\n",
    "* (10 pts) Each of the Questions are answered appropriately.\n",
    "* If you worked with others, list their names below."
   ]
  }
 ],
 "metadata": {
  "kernelspec": {
   "display_name": "Python 3",
   "language": "python",
   "name": "python3"
  },
  "language_info": {
   "codemirror_mode": {
    "name": "ipython",
    "version": 3
   },
   "file_extension": ".py",
   "mimetype": "text/x-python",
   "name": "python",
   "nbconvert_exporter": "python",
   "pygments_lexer": "ipython3",
   "version": "3.8.8"
  }
 },
 "nbformat": 4,
 "nbformat_minor": 2
}
